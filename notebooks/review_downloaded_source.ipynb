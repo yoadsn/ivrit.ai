{
 "cells": [
  {
   "cell_type": "code",
   "execution_count": null,
   "metadata": {},
   "outputs": [],
   "source": [
    "from pathlib import Path\n",
    "\n",
    "source_output_folder_base = Path('<Enter path to download root target folder>')\n",
    "aligned_transcript_filename = 'transcript.aligned.json'\n",
    "source_entry_ids = [i.name for i in source_output_folder_base.iterdir() if i.is_dir()]"
   ]
  },
  {
   "cell_type": "code",
   "execution_count": null,
   "metadata": {},
   "outputs": [
    {
     "name": "stderr",
     "output_type": "stream",
     "text": [
      "100%|██████████| 5499/5499 [00:01<00:00, 5084.74it/s]"
     ]
    },
    {
     "name": "stdout",
     "output_type": "stream",
     "text": [
      "Total segments duration: 51747.55600000007 seconds\n",
      "Total duration: 286853.2922448972 seconds\n"
     ]
    },
    {
     "name": "stderr",
     "output_type": "stream",
     "text": [
      "\n"
     ]
    }
   ],
   "source": [
    "import json\n",
    "import numpy as np\n",
    "import pandas as pd\n",
    "from tqdm import tqdm\n",
    "\n",
    "buckets = {}\n",
    "\n",
    "total_duration = 0\n",
    "total_segments_duration = 0\n",
    "for source_entry_id in tqdm(source_entry_ids):\n",
    "      metadata_path = source_output_folder_base / str(source_entry_id) / \"metadata.json\"\n",
    "      with open(metadata_path, 'r') as f:\n",
    "        metadata_content = json.loads(f.read())\n",
    "      segments_metadata = metadata_content.get(\"per_segment_quality_scores\", [])\n",
    "      total_segments_duration += sum([s[\"end\"] - s[\"start\"] for s in segments_metadata])\n",
    "      total_duration += metadata_content[\"session_duration\"]\n",
    "\n",
    "print(f\"Total segments duration: {total_segments_duration} seconds\")\n",
    "print(f\"Total duration: {total_duration} seconds\")"
   ]
  },
  {
   "cell_type": "code",
   "execution_count": 2,
   "metadata": {},
   "outputs": [
    {
     "name": "stderr",
     "output_type": "stream",
     "text": [
      " 44%|████▍     | 2430/5500 [00:05<00:06, 511.61it/s]"
     ]
    },
    {
     "name": "stdout",
     "output_type": "stream",
     "text": [
      "Did not work out -  manifest.csv\n"
     ]
    },
    {
     "name": "stderr",
     "output_type": "stream",
     "text": [
      "100%|██████████| 5500/5500 [00:12<00:00, 452.88it/s]\n"
     ]
    },
    {
     "data": {
      "text/html": [
       "<div>\n",
       "<style scoped>\n",
       "    .dataframe tbody tr th:only-of-type {\n",
       "        vertical-align: middle;\n",
       "    }\n",
       "\n",
       "    .dataframe tbody tr th {\n",
       "        vertical-align: top;\n",
       "    }\n",
       "\n",
       "    .dataframe thead th {\n",
       "        text-align: right;\n",
       "    }\n",
       "</style>\n",
       "<table border=\"1\" class=\"dataframe\">\n",
       "  <thead>\n",
       "    <tr style=\"text-align: right;\">\n",
       "      <th></th>\n",
       "      <th>0</th>\n",
       "      <th>cs</th>\n",
       "      <th>csp</th>\n",
       "    </tr>\n",
       "  </thead>\n",
       "  <tbody>\n",
       "    <tr>\n",
       "      <th>1.0</th>\n",
       "      <td>1.240</td>\n",
       "      <td>1.240</td>\n",
       "      <td>0.000024</td>\n",
       "    </tr>\n",
       "    <tr>\n",
       "      <th>0.9</th>\n",
       "      <td>20.240</td>\n",
       "      <td>21.480</td>\n",
       "      <td>0.000415</td>\n",
       "    </tr>\n",
       "    <tr>\n",
       "      <th>0.8</th>\n",
       "      <td>66.040</td>\n",
       "      <td>87.520</td>\n",
       "      <td>0.001691</td>\n",
       "    </tr>\n",
       "    <tr>\n",
       "      <th>0.7</th>\n",
       "      <td>125.870</td>\n",
       "      <td>213.390</td>\n",
       "      <td>0.004124</td>\n",
       "    </tr>\n",
       "    <tr>\n",
       "      <th>0.6</th>\n",
       "      <td>296.670</td>\n",
       "      <td>510.060</td>\n",
       "      <td>0.009857</td>\n",
       "    </tr>\n",
       "    <tr>\n",
       "      <th>0.5</th>\n",
       "      <td>886.165</td>\n",
       "      <td>1396.225</td>\n",
       "      <td>0.026981</td>\n",
       "    </tr>\n",
       "    <tr>\n",
       "      <th>0.4</th>\n",
       "      <td>2227.948</td>\n",
       "      <td>3624.173</td>\n",
       "      <td>0.070036</td>\n",
       "    </tr>\n",
       "    <tr>\n",
       "      <th>0.3</th>\n",
       "      <td>5373.990</td>\n",
       "      <td>8998.163</td>\n",
       "      <td>0.173886</td>\n",
       "    </tr>\n",
       "    <tr>\n",
       "      <th>0.2</th>\n",
       "      <td>10815.479</td>\n",
       "      <td>19813.642</td>\n",
       "      <td>0.382890</td>\n",
       "    </tr>\n",
       "    <tr>\n",
       "      <th>0.1</th>\n",
       "      <td>19156.585</td>\n",
       "      <td>38970.227</td>\n",
       "      <td>0.753083</td>\n",
       "    </tr>\n",
       "    <tr>\n",
       "      <th>0.0</th>\n",
       "      <td>12777.329</td>\n",
       "      <td>51747.556</td>\n",
       "      <td>1.000000</td>\n",
       "    </tr>\n",
       "  </tbody>\n",
       "</table>\n",
       "</div>"
      ],
      "text/plain": [
       "             0         cs       csp\n",
       "1.0      1.240      1.240  0.000024\n",
       "0.9     20.240     21.480  0.000415\n",
       "0.8     66.040     87.520  0.001691\n",
       "0.7    125.870    213.390  0.004124\n",
       "0.6    296.670    510.060  0.009857\n",
       "0.5    886.165   1396.225  0.026981\n",
       "0.4   2227.948   3624.173  0.070036\n",
       "0.3   5373.990   8998.163  0.173886\n",
       "0.2  10815.479  19813.642  0.382890\n",
       "0.1  19156.585  38970.227  0.753083\n",
       "0.0  12777.329  51747.556  1.000000"
      ]
     },
     "execution_count": 2,
     "metadata": {},
     "output_type": "execute_result"
    }
   ],
   "source": [
    "import stable_whisper\n",
    "import numpy as np\n",
    "import pandas as pd\n",
    "from tqdm import tqdm\n",
    "\n",
    "buckets = {}\n",
    "\n",
    "for source_entry_id in tqdm(source_entry_ids):\n",
    "    try:\n",
    "        aligned_results_path = source_output_folder_base / str(source_entry_id) / aligned_transcript_filename\n",
    "        aligned_results = stable_whisper.WhisperResult(str(aligned_results_path))\n",
    "        \n",
    "        segment_durations = [s.end - s.start for s in aligned_results.segments]\n",
    "        word_probs_per_segment = [[w.probability for w in s.words] for s in aligned_results.segments]\n",
    "        median_probs_per_segment = [np.median(probs) for probs in word_probs_per_segment]\n",
    "\n",
    "        round_probs = (np.array(median_probs_per_segment) * 10).round() / 10\n",
    "\n",
    "        for prob_bucket, duration in zip(round_probs, segment_durations):\n",
    "            buckets[prob_bucket] = buckets.get(prob_bucket, 0)\n",
    "            buckets[prob_bucket] += duration\n",
    "    except:\n",
    "        print('Did not work out - ', source_entry_id)\n",
    "\n",
    "    \n",
    "\n",
    "durations_per_prob_df = pd.DataFrame.from_dict(buckets, \"index\").sort_index(ascending=False)\n",
    "durations_per_prob_df[\"cs\"] = durations_per_prob_df.cumsum()\n",
    "durations_per_prob_df[\"csp\"] = durations_per_prob_df[\"cs\"] / durations_per_prob_df[\"cs\"].iloc[-1]\n",
    "durations_per_prob_df"
   ]
  }
 ],
 "metadata": {
  "kernelspec": {
   "display_name": "dataset-prep",
   "language": "python",
   "name": "python3"
  },
  "language_info": {
   "codemirror_mode": {
    "name": "ipython",
    "version": 3
   },
   "file_extension": ".py",
   "mimetype": "text/x-python",
   "name": "python",
   "nbconvert_exporter": "python",
   "pygments_lexer": "ipython3",
   "version": "3.11.11"
  }
 },
 "nbformat": 4,
 "nbformat_minor": 2
}
